{
  "nbformat": 4,
  "nbformat_minor": 0,
  "metadata": {
    "colab": {
      "provenance": []
    },
    "kernelspec": {
      "name": "python3",
      "display_name": "Python 3"
    },
    "language_info": {
      "name": "python"
    }
  },
  "cells": [
    {
      "cell_type": "code",
      "execution_count": null,
      "metadata": {
        "colab": {
          "base_uri": "https://localhost:8080/"
        },
        "id": "QHZlJCo8bRJD",
        "outputId": "9e87cfd6-08a3-4c32-c6f7-3eeb0d7b8a2b"
      },
      "outputs": [
        {
          "output_type": "stream",
          "name": "stderr",
          "text": [
            "[nltk_data] Downloading package stopwords to /root/nltk_data...\n",
            "[nltk_data]   Unzipping corpora/stopwords.zip.\n"
          ]
        }
      ],
      "source": [
        "import numpy as np\n",
        "import matplotlib.pyplot as plt\n",
        "from tqdm import tqdm\n",
        "import pandas as pd\n",
        "\n",
        "import nltk.corpus\n",
        "nltk.download('stopwords')\n",
        "from nltk.corpus import stopwords\n",
        "import re"
      ]
    },
    {
      "cell_type": "code",
      "source": [],
      "metadata": {
        "colab": {
          "base_uri": "https://localhost:8080/"
        },
        "id": "0NP_PfZdwRow",
        "outputId": "f188a2ce-63ad-4d53-fccb-0449a916db41"
      },
      "execution_count": null,
      "outputs": [
        {
          "output_type": "execute_result",
          "data": {
            "text/plain": [
              "<WordListCorpusReader in '/root/nltk_data/corpora/stopwords'>"
            ]
          },
          "metadata": {},
          "execution_count": 86
        }
      ]
    },
    {
      "cell_type": "code",
      "source": [
        "stop = stopwords.words('english')"
      ],
      "metadata": {
        "id": "uzwVtAqRrTep"
      },
      "execution_count": null,
      "outputs": []
    },
    {
      "cell_type": "code",
      "source": [
        "from google.colab import drive\n",
        "drive.mount('/content/gdrive')"
      ],
      "metadata": {
        "colab": {
          "base_uri": "https://localhost:8080/"
        },
        "id": "ypxKeHd2gNih",
        "outputId": "2bf9b260-4633-401d-a478-cbbf5d954a11"
      },
      "execution_count": null,
      "outputs": [
        {
          "output_type": "stream",
          "name": "stdout",
          "text": [
            "Drive already mounted at /content/gdrive; to attempt to forcibly remount, call drive.mount(\"/content/gdrive\", force_remount=True).\n"
          ]
        }
      ]
    },
    {
      "cell_type": "code",
      "source": [
        "trueNews = pd.read_csv('/content/gdrive/MyDrive/Canis/DataSet_Misinfo_TRUE.csv')\n",
        "fakeNews = pd.read_csv('/content/gdrive/MyDrive/Canis/DataSet_Misinfo_FAKE.csv')\n",
        "russianNews =  pd.read_csv('/content/gdrive/MyDrive/Canis/EXTRA_RussianPropagandaSubset.csv')"
      ],
      "metadata": {
        "id": "IQ5-pTQ7gPId"
      },
      "execution_count": null,
      "outputs": []
    },
    {
      "cell_type": "code",
      "source": [
        "trueNews['wordcount']=trueNews['text'].apply(lambda x: len(str(x).split()))\n",
        "fakeNews['wordcount']=fakeNews['text'].apply(lambda x: len(str(x).split()))"
      ],
      "metadata": {
        "id": "GtamWK-Yhb7F"
      },
      "execution_count": null,
      "outputs": []
    },
    {
      "cell_type": "code",
      "source": [
        "print(\"Average, Minimum and Maximum of lentgh in True News are {0}, {1}, {2}\".format(trueNews['wordcount'].mean(),trueNews['wordcount'].min(),trueNews['wordcount'].max()))"
      ],
      "metadata": {
        "colab": {
          "base_uri": "https://localhost:8080/"
        },
        "id": "oi0iTs1Tg-gc",
        "outputId": "8227f33f-0d23-410a-c529-95293b3e163b"
      },
      "execution_count": null,
      "outputs": [
        {
          "output_type": "stream",
          "name": "stdout",
          "text": [
            "Average, Minimum and Maximum of lentgh in True News are 533.143502501787, 1, 14641\n"
          ]
        }
      ]
    },
    {
      "cell_type": "code",
      "source": [
        "print(\"Average, Minimum and Maximum of lentgh in Fake News are {0}, {1}, {2}\".format(fakeNews['wordcount'].mean(),fakeNews['wordcount'].min(),fakeNews['wordcount'].max()))"
      ],
      "metadata": {
        "colab": {
          "base_uri": "https://localhost:8080/"
        },
        "id": "6sT4V3TahReE",
        "outputId": "2afef380-6fd4-4863-bc6d-0336d12947ad"
      },
      "execution_count": null,
      "outputs": [
        {
          "output_type": "stream",
          "name": "stdout",
          "text": [
            "Average, Minimum and Maximum of lentgh in Fake News are 436.3785115255946, 1, 24234\n"
          ]
        }
      ]
    },
    {
      "cell_type": "code",
      "source": [
        "fakeNews[fakeNews['wordcount']==1]"
      ],
      "metadata": {
        "colab": {
          "base_uri": "https://localhost:8080/",
          "height": 424
        },
        "id": "sbH24bndnC0E",
        "outputId": "fb6271c2-be82-43dc-972b-85f0ca9eb857"
      },
      "execution_count": null,
      "outputs": [
        {
          "output_type": "execute_result",
          "data": {
            "text/plain": [
              "       Unnamed: 0                                               text  \\\n",
              "9358         9358  https://100percentfedup.com/served-roy-moore-v...   \n",
              "11115       11117                                             Enjoy:   \n",
              "11243       11251        https://www.youtube.com/watch?v=cJZFepSvxzM   \n",
              "11273       11286        https://www.youtube.com/watch?v=-7Tn4gi_Os8   \n",
              "11275       11288  https://www.youtube.com/watch?time_continue=2&...   \n",
              "...           ...                                                ...   \n",
              "30664       31383                                           baldegar   \n",
              "31198       31922                                         Brilliant!   \n",
              "31952       32683                                        Innocent...   \n",
              "32618       33357                                           Trending   \n",
              "34482       35241                                         11/08/2016   \n",
              "\n",
              "       wordcount  \n",
              "9358           1  \n",
              "11115          1  \n",
              "11243          1  \n",
              "11273          1  \n",
              "11275          1  \n",
              "...          ...  \n",
              "30664          1  \n",
              "31198          1  \n",
              "31952          1  \n",
              "32618          1  \n",
              "34482          1  \n",
              "\n",
              "[116 rows x 3 columns]"
            ],
            "text/html": [
              "\n",
              "  <div id=\"df-0b919c91-e149-4929-a76c-ffcfb3093623\">\n",
              "    <div class=\"colab-df-container\">\n",
              "      <div>\n",
              "<style scoped>\n",
              "    .dataframe tbody tr th:only-of-type {\n",
              "        vertical-align: middle;\n",
              "    }\n",
              "\n",
              "    .dataframe tbody tr th {\n",
              "        vertical-align: top;\n",
              "    }\n",
              "\n",
              "    .dataframe thead th {\n",
              "        text-align: right;\n",
              "    }\n",
              "</style>\n",
              "<table border=\"1\" class=\"dataframe\">\n",
              "  <thead>\n",
              "    <tr style=\"text-align: right;\">\n",
              "      <th></th>\n",
              "      <th>Unnamed: 0</th>\n",
              "      <th>text</th>\n",
              "      <th>wordcount</th>\n",
              "    </tr>\n",
              "  </thead>\n",
              "  <tbody>\n",
              "    <tr>\n",
              "      <th>9358</th>\n",
              "      <td>9358</td>\n",
              "      <td>https://100percentfedup.com/served-roy-moore-v...</td>\n",
              "      <td>1</td>\n",
              "    </tr>\n",
              "    <tr>\n",
              "      <th>11115</th>\n",
              "      <td>11117</td>\n",
              "      <td>Enjoy:</td>\n",
              "      <td>1</td>\n",
              "    </tr>\n",
              "    <tr>\n",
              "      <th>11243</th>\n",
              "      <td>11251</td>\n",
              "      <td>https://www.youtube.com/watch?v=cJZFepSvxzM</td>\n",
              "      <td>1</td>\n",
              "    </tr>\n",
              "    <tr>\n",
              "      <th>11273</th>\n",
              "      <td>11286</td>\n",
              "      <td>https://www.youtube.com/watch?v=-7Tn4gi_Os8</td>\n",
              "      <td>1</td>\n",
              "    </tr>\n",
              "    <tr>\n",
              "      <th>11275</th>\n",
              "      <td>11288</td>\n",
              "      <td>https://www.youtube.com/watch?time_continue=2&amp;...</td>\n",
              "      <td>1</td>\n",
              "    </tr>\n",
              "    <tr>\n",
              "      <th>...</th>\n",
              "      <td>...</td>\n",
              "      <td>...</td>\n",
              "      <td>...</td>\n",
              "    </tr>\n",
              "    <tr>\n",
              "      <th>30664</th>\n",
              "      <td>31383</td>\n",
              "      <td>baldegar</td>\n",
              "      <td>1</td>\n",
              "    </tr>\n",
              "    <tr>\n",
              "      <th>31198</th>\n",
              "      <td>31922</td>\n",
              "      <td>Brilliant!</td>\n",
              "      <td>1</td>\n",
              "    </tr>\n",
              "    <tr>\n",
              "      <th>31952</th>\n",
              "      <td>32683</td>\n",
              "      <td>Innocent...</td>\n",
              "      <td>1</td>\n",
              "    </tr>\n",
              "    <tr>\n",
              "      <th>32618</th>\n",
              "      <td>33357</td>\n",
              "      <td>Trending</td>\n",
              "      <td>1</td>\n",
              "    </tr>\n",
              "    <tr>\n",
              "      <th>34482</th>\n",
              "      <td>35241</td>\n",
              "      <td>11/08/2016</td>\n",
              "      <td>1</td>\n",
              "    </tr>\n",
              "  </tbody>\n",
              "</table>\n",
              "<p>116 rows × 3 columns</p>\n",
              "</div>\n",
              "      <button class=\"colab-df-convert\" onclick=\"convertToInteractive('df-0b919c91-e149-4929-a76c-ffcfb3093623')\"\n",
              "              title=\"Convert this dataframe to an interactive table.\"\n",
              "              style=\"display:none;\">\n",
              "        \n",
              "  <svg xmlns=\"http://www.w3.org/2000/svg\" height=\"24px\"viewBox=\"0 0 24 24\"\n",
              "       width=\"24px\">\n",
              "    <path d=\"M0 0h24v24H0V0z\" fill=\"none\"/>\n",
              "    <path d=\"M18.56 5.44l.94 2.06.94-2.06 2.06-.94-2.06-.94-.94-2.06-.94 2.06-2.06.94zm-11 1L8.5 8.5l.94-2.06 2.06-.94-2.06-.94L8.5 2.5l-.94 2.06-2.06.94zm10 10l.94 2.06.94-2.06 2.06-.94-2.06-.94-.94-2.06-.94 2.06-2.06.94z\"/><path d=\"M17.41 7.96l-1.37-1.37c-.4-.4-.92-.59-1.43-.59-.52 0-1.04.2-1.43.59L10.3 9.45l-7.72 7.72c-.78.78-.78 2.05 0 2.83L4 21.41c.39.39.9.59 1.41.59.51 0 1.02-.2 1.41-.59l7.78-7.78 2.81-2.81c.8-.78.8-2.07 0-2.86zM5.41 20L4 18.59l7.72-7.72 1.47 1.35L5.41 20z\"/>\n",
              "  </svg>\n",
              "      </button>\n",
              "      \n",
              "  <style>\n",
              "    .colab-df-container {\n",
              "      display:flex;\n",
              "      flex-wrap:wrap;\n",
              "      gap: 12px;\n",
              "    }\n",
              "\n",
              "    .colab-df-convert {\n",
              "      background-color: #E8F0FE;\n",
              "      border: none;\n",
              "      border-radius: 50%;\n",
              "      cursor: pointer;\n",
              "      display: none;\n",
              "      fill: #1967D2;\n",
              "      height: 32px;\n",
              "      padding: 0 0 0 0;\n",
              "      width: 32px;\n",
              "    }\n",
              "\n",
              "    .colab-df-convert:hover {\n",
              "      background-color: #E2EBFA;\n",
              "      box-shadow: 0px 1px 2px rgba(60, 64, 67, 0.3), 0px 1px 3px 1px rgba(60, 64, 67, 0.15);\n",
              "      fill: #174EA6;\n",
              "    }\n",
              "\n",
              "    [theme=dark] .colab-df-convert {\n",
              "      background-color: #3B4455;\n",
              "      fill: #D2E3FC;\n",
              "    }\n",
              "\n",
              "    [theme=dark] .colab-df-convert:hover {\n",
              "      background-color: #434B5C;\n",
              "      box-shadow: 0px 1px 3px 1px rgba(0, 0, 0, 0.15);\n",
              "      filter: drop-shadow(0px 1px 2px rgba(0, 0, 0, 0.3));\n",
              "      fill: #FFFFFF;\n",
              "    }\n",
              "  </style>\n",
              "\n",
              "      <script>\n",
              "        const buttonEl =\n",
              "          document.querySelector('#df-0b919c91-e149-4929-a76c-ffcfb3093623 button.colab-df-convert');\n",
              "        buttonEl.style.display =\n",
              "          google.colab.kernel.accessAllowed ? 'block' : 'none';\n",
              "\n",
              "        async function convertToInteractive(key) {\n",
              "          const element = document.querySelector('#df-0b919c91-e149-4929-a76c-ffcfb3093623');\n",
              "          const dataTable =\n",
              "            await google.colab.kernel.invokeFunction('convertToInteractive',\n",
              "                                                     [key], {});\n",
              "          if (!dataTable) return;\n",
              "\n",
              "          const docLinkHtml = 'Like what you see? Visit the ' +\n",
              "            '<a target=\"_blank\" href=https://colab.research.google.com/notebooks/data_table.ipynb>data table notebook</a>'\n",
              "            + ' to learn more about interactive tables.';\n",
              "          element.innerHTML = '';\n",
              "          dataTable['output_type'] = 'display_data';\n",
              "          await google.colab.output.renderOutput(dataTable, element);\n",
              "          const docLink = document.createElement('div');\n",
              "          docLink.innerHTML = docLinkHtml;\n",
              "          element.appendChild(docLink);\n",
              "        }\n",
              "      </script>\n",
              "    </div>\n",
              "  </div>\n",
              "  "
            ]
          },
          "metadata": {},
          "execution_count": 8
        }
      ]
    },
    {
      "cell_type": "code",
      "source": [
        "trueNews[trueNews['wordcount']==1]"
      ],
      "metadata": {
        "colab": {
          "base_uri": "https://localhost:8080/",
          "height": 1000
        },
        "id": "TZ6xvphKnRbN",
        "outputId": "b5f54a6a-a035-42d9-f5ee-7a2a24ff2c21"
      },
      "execution_count": null,
      "outputs": [
        {
          "output_type": "execute_result",
          "data": {
            "text/plain": [
              "       Unnamed: 0           text  wordcount\n",
              "2922         2922            NaN          1\n",
              "3488         3488            NaN          1\n",
              "3782         3782            NaN          1\n",
              "4358         4358            NaN          1\n",
              "4465         4465            NaN          1\n",
              "5290         5290            NaN          1\n",
              "5588         5588            NaN          1\n",
              "5761         5761            NaN          1\n",
              "5784         5784            NaN          1\n",
              "6026         6026            NaN          1\n",
              "6184         6184            NaN          1\n",
              "6660         6660            NaN          1\n",
              "6823         6823            NaN          1\n",
              "7922         7922            NaN          1\n",
              "8194         8194            NaN          1\n",
              "8195         8195            NaN          1\n",
              "8247         8247            NaN          1\n",
              "8465         8465            NaN          1\n",
              "8481         8481            NaN          1\n",
              "8482         8482            NaN          1\n",
              "8505         8505            NaN          1\n",
              "8506         8506            NaN          1\n",
              "8771         8771            NaN          1\n",
              "8970         8970            NaN          1\n",
              "9008         9008            NaN          1\n",
              "9009         9009            NaN          1\n",
              "9307         9307            NaN          1\n",
              "9618         9618            NaN          1\n",
              "9737         9737            NaN          1\n",
              "16846       16846      (Reuters)          1\n",
              "20563       20563      (Reuters)          1\n",
              "24978       24978            No.          1\n",
              "30716       30716  advertisement          1"
            ],
            "text/html": [
              "\n",
              "  <div id=\"df-f838b6a9-9f3d-432c-b1a2-b642562fc006\">\n",
              "    <div class=\"colab-df-container\">\n",
              "      <div>\n",
              "<style scoped>\n",
              "    .dataframe tbody tr th:only-of-type {\n",
              "        vertical-align: middle;\n",
              "    }\n",
              "\n",
              "    .dataframe tbody tr th {\n",
              "        vertical-align: top;\n",
              "    }\n",
              "\n",
              "    .dataframe thead th {\n",
              "        text-align: right;\n",
              "    }\n",
              "</style>\n",
              "<table border=\"1\" class=\"dataframe\">\n",
              "  <thead>\n",
              "    <tr style=\"text-align: right;\">\n",
              "      <th></th>\n",
              "      <th>Unnamed: 0</th>\n",
              "      <th>text</th>\n",
              "      <th>wordcount</th>\n",
              "    </tr>\n",
              "  </thead>\n",
              "  <tbody>\n",
              "    <tr>\n",
              "      <th>2922</th>\n",
              "      <td>2922</td>\n",
              "      <td>NaN</td>\n",
              "      <td>1</td>\n",
              "    </tr>\n",
              "    <tr>\n",
              "      <th>3488</th>\n",
              "      <td>3488</td>\n",
              "      <td>NaN</td>\n",
              "      <td>1</td>\n",
              "    </tr>\n",
              "    <tr>\n",
              "      <th>3782</th>\n",
              "      <td>3782</td>\n",
              "      <td>NaN</td>\n",
              "      <td>1</td>\n",
              "    </tr>\n",
              "    <tr>\n",
              "      <th>4358</th>\n",
              "      <td>4358</td>\n",
              "      <td>NaN</td>\n",
              "      <td>1</td>\n",
              "    </tr>\n",
              "    <tr>\n",
              "      <th>4465</th>\n",
              "      <td>4465</td>\n",
              "      <td>NaN</td>\n",
              "      <td>1</td>\n",
              "    </tr>\n",
              "    <tr>\n",
              "      <th>5290</th>\n",
              "      <td>5290</td>\n",
              "      <td>NaN</td>\n",
              "      <td>1</td>\n",
              "    </tr>\n",
              "    <tr>\n",
              "      <th>5588</th>\n",
              "      <td>5588</td>\n",
              "      <td>NaN</td>\n",
              "      <td>1</td>\n",
              "    </tr>\n",
              "    <tr>\n",
              "      <th>5761</th>\n",
              "      <td>5761</td>\n",
              "      <td>NaN</td>\n",
              "      <td>1</td>\n",
              "    </tr>\n",
              "    <tr>\n",
              "      <th>5784</th>\n",
              "      <td>5784</td>\n",
              "      <td>NaN</td>\n",
              "      <td>1</td>\n",
              "    </tr>\n",
              "    <tr>\n",
              "      <th>6026</th>\n",
              "      <td>6026</td>\n",
              "      <td>NaN</td>\n",
              "      <td>1</td>\n",
              "    </tr>\n",
              "    <tr>\n",
              "      <th>6184</th>\n",
              "      <td>6184</td>\n",
              "      <td>NaN</td>\n",
              "      <td>1</td>\n",
              "    </tr>\n",
              "    <tr>\n",
              "      <th>6660</th>\n",
              "      <td>6660</td>\n",
              "      <td>NaN</td>\n",
              "      <td>1</td>\n",
              "    </tr>\n",
              "    <tr>\n",
              "      <th>6823</th>\n",
              "      <td>6823</td>\n",
              "      <td>NaN</td>\n",
              "      <td>1</td>\n",
              "    </tr>\n",
              "    <tr>\n",
              "      <th>7922</th>\n",
              "      <td>7922</td>\n",
              "      <td>NaN</td>\n",
              "      <td>1</td>\n",
              "    </tr>\n",
              "    <tr>\n",
              "      <th>8194</th>\n",
              "      <td>8194</td>\n",
              "      <td>NaN</td>\n",
              "      <td>1</td>\n",
              "    </tr>\n",
              "    <tr>\n",
              "      <th>8195</th>\n",
              "      <td>8195</td>\n",
              "      <td>NaN</td>\n",
              "      <td>1</td>\n",
              "    </tr>\n",
              "    <tr>\n",
              "      <th>8247</th>\n",
              "      <td>8247</td>\n",
              "      <td>NaN</td>\n",
              "      <td>1</td>\n",
              "    </tr>\n",
              "    <tr>\n",
              "      <th>8465</th>\n",
              "      <td>8465</td>\n",
              "      <td>NaN</td>\n",
              "      <td>1</td>\n",
              "    </tr>\n",
              "    <tr>\n",
              "      <th>8481</th>\n",
              "      <td>8481</td>\n",
              "      <td>NaN</td>\n",
              "      <td>1</td>\n",
              "    </tr>\n",
              "    <tr>\n",
              "      <th>8482</th>\n",
              "      <td>8482</td>\n",
              "      <td>NaN</td>\n",
              "      <td>1</td>\n",
              "    </tr>\n",
              "    <tr>\n",
              "      <th>8505</th>\n",
              "      <td>8505</td>\n",
              "      <td>NaN</td>\n",
              "      <td>1</td>\n",
              "    </tr>\n",
              "    <tr>\n",
              "      <th>8506</th>\n",
              "      <td>8506</td>\n",
              "      <td>NaN</td>\n",
              "      <td>1</td>\n",
              "    </tr>\n",
              "    <tr>\n",
              "      <th>8771</th>\n",
              "      <td>8771</td>\n",
              "      <td>NaN</td>\n",
              "      <td>1</td>\n",
              "    </tr>\n",
              "    <tr>\n",
              "      <th>8970</th>\n",
              "      <td>8970</td>\n",
              "      <td>NaN</td>\n",
              "      <td>1</td>\n",
              "    </tr>\n",
              "    <tr>\n",
              "      <th>9008</th>\n",
              "      <td>9008</td>\n",
              "      <td>NaN</td>\n",
              "      <td>1</td>\n",
              "    </tr>\n",
              "    <tr>\n",
              "      <th>9009</th>\n",
              "      <td>9009</td>\n",
              "      <td>NaN</td>\n",
              "      <td>1</td>\n",
              "    </tr>\n",
              "    <tr>\n",
              "      <th>9307</th>\n",
              "      <td>9307</td>\n",
              "      <td>NaN</td>\n",
              "      <td>1</td>\n",
              "    </tr>\n",
              "    <tr>\n",
              "      <th>9618</th>\n",
              "      <td>9618</td>\n",
              "      <td>NaN</td>\n",
              "      <td>1</td>\n",
              "    </tr>\n",
              "    <tr>\n",
              "      <th>9737</th>\n",
              "      <td>9737</td>\n",
              "      <td>NaN</td>\n",
              "      <td>1</td>\n",
              "    </tr>\n",
              "    <tr>\n",
              "      <th>16846</th>\n",
              "      <td>16846</td>\n",
              "      <td>(Reuters)</td>\n",
              "      <td>1</td>\n",
              "    </tr>\n",
              "    <tr>\n",
              "      <th>20563</th>\n",
              "      <td>20563</td>\n",
              "      <td>(Reuters)</td>\n",
              "      <td>1</td>\n",
              "    </tr>\n",
              "    <tr>\n",
              "      <th>24978</th>\n",
              "      <td>24978</td>\n",
              "      <td>No.</td>\n",
              "      <td>1</td>\n",
              "    </tr>\n",
              "    <tr>\n",
              "      <th>30716</th>\n",
              "      <td>30716</td>\n",
              "      <td>advertisement</td>\n",
              "      <td>1</td>\n",
              "    </tr>\n",
              "  </tbody>\n",
              "</table>\n",
              "</div>\n",
              "      <button class=\"colab-df-convert\" onclick=\"convertToInteractive('df-f838b6a9-9f3d-432c-b1a2-b642562fc006')\"\n",
              "              title=\"Convert this dataframe to an interactive table.\"\n",
              "              style=\"display:none;\">\n",
              "        \n",
              "  <svg xmlns=\"http://www.w3.org/2000/svg\" height=\"24px\"viewBox=\"0 0 24 24\"\n",
              "       width=\"24px\">\n",
              "    <path d=\"M0 0h24v24H0V0z\" fill=\"none\"/>\n",
              "    <path d=\"M18.56 5.44l.94 2.06.94-2.06 2.06-.94-2.06-.94-.94-2.06-.94 2.06-2.06.94zm-11 1L8.5 8.5l.94-2.06 2.06-.94-2.06-.94L8.5 2.5l-.94 2.06-2.06.94zm10 10l.94 2.06.94-2.06 2.06-.94-2.06-.94-.94-2.06-.94 2.06-2.06.94z\"/><path d=\"M17.41 7.96l-1.37-1.37c-.4-.4-.92-.59-1.43-.59-.52 0-1.04.2-1.43.59L10.3 9.45l-7.72 7.72c-.78.78-.78 2.05 0 2.83L4 21.41c.39.39.9.59 1.41.59.51 0 1.02-.2 1.41-.59l7.78-7.78 2.81-2.81c.8-.78.8-2.07 0-2.86zM5.41 20L4 18.59l7.72-7.72 1.47 1.35L5.41 20z\"/>\n",
              "  </svg>\n",
              "      </button>\n",
              "      \n",
              "  <style>\n",
              "    .colab-df-container {\n",
              "      display:flex;\n",
              "      flex-wrap:wrap;\n",
              "      gap: 12px;\n",
              "    }\n",
              "\n",
              "    .colab-df-convert {\n",
              "      background-color: #E8F0FE;\n",
              "      border: none;\n",
              "      border-radius: 50%;\n",
              "      cursor: pointer;\n",
              "      display: none;\n",
              "      fill: #1967D2;\n",
              "      height: 32px;\n",
              "      padding: 0 0 0 0;\n",
              "      width: 32px;\n",
              "    }\n",
              "\n",
              "    .colab-df-convert:hover {\n",
              "      background-color: #E2EBFA;\n",
              "      box-shadow: 0px 1px 2px rgba(60, 64, 67, 0.3), 0px 1px 3px 1px rgba(60, 64, 67, 0.15);\n",
              "      fill: #174EA6;\n",
              "    }\n",
              "\n",
              "    [theme=dark] .colab-df-convert {\n",
              "      background-color: #3B4455;\n",
              "      fill: #D2E3FC;\n",
              "    }\n",
              "\n",
              "    [theme=dark] .colab-df-convert:hover {\n",
              "      background-color: #434B5C;\n",
              "      box-shadow: 0px 1px 3px 1px rgba(0, 0, 0, 0.15);\n",
              "      filter: drop-shadow(0px 1px 2px rgba(0, 0, 0, 0.3));\n",
              "      fill: #FFFFFF;\n",
              "    }\n",
              "  </style>\n",
              "\n",
              "      <script>\n",
              "        const buttonEl =\n",
              "          document.querySelector('#df-f838b6a9-9f3d-432c-b1a2-b642562fc006 button.colab-df-convert');\n",
              "        buttonEl.style.display =\n",
              "          google.colab.kernel.accessAllowed ? 'block' : 'none';\n",
              "\n",
              "        async function convertToInteractive(key) {\n",
              "          const element = document.querySelector('#df-f838b6a9-9f3d-432c-b1a2-b642562fc006');\n",
              "          const dataTable =\n",
              "            await google.colab.kernel.invokeFunction('convertToInteractive',\n",
              "                                                     [key], {});\n",
              "          if (!dataTable) return;\n",
              "\n",
              "          const docLinkHtml = 'Like what you see? Visit the ' +\n",
              "            '<a target=\"_blank\" href=https://colab.research.google.com/notebooks/data_table.ipynb>data table notebook</a>'\n",
              "            + ' to learn more about interactive tables.';\n",
              "          element.innerHTML = '';\n",
              "          dataTable['output_type'] = 'display_data';\n",
              "          await google.colab.output.renderOutput(dataTable, element);\n",
              "          const docLink = document.createElement('div');\n",
              "          docLink.innerHTML = docLinkHtml;\n",
              "          element.appendChild(docLink);\n",
              "        }\n",
              "      </script>\n",
              "    </div>\n",
              "  </div>\n",
              "  "
            ]
          },
          "metadata": {},
          "execution_count": 9
        }
      ]
    },
    {
      "cell_type": "code",
      "source": [
        "len(trueNews[trueNews['wordcount']==1])"
      ],
      "metadata": {
        "colab": {
          "base_uri": "https://localhost:8080/"
        },
        "id": "5iE560DJPhxP",
        "outputId": "37c01841-e264-48de-bad8-a6ffe7c4cbec"
      },
      "execution_count": null,
      "outputs": [
        {
          "output_type": "execute_result",
          "data": {
            "text/plain": [
              "33"
            ]
          },
          "metadata": {},
          "execution_count": 10
        }
      ]
    },
    {
      "cell_type": "code",
      "source": [
        "fakeNews['wordcount'].hist(bins=100)"
      ],
      "metadata": {
        "colab": {
          "base_uri": "https://localhost:8080/",
          "height": 447
        },
        "id": "xchJsQCxhngQ",
        "outputId": "8c183e49-04dc-4526-cfd6-6fafca7aaa8c"
      },
      "execution_count": null,
      "outputs": [
        {
          "output_type": "execute_result",
          "data": {
            "text/plain": [
              "<Axes: >"
            ]
          },
          "metadata": {},
          "execution_count": 11
        },
        {
          "output_type": "display_data",
          "data": {
            "text/plain": [
              "<Figure size 640x480 with 1 Axes>"
            ],
            "image/png": "[encoded data removed]"
          },
          "metadata": {}
        }
      ]
    },
    {
      "cell_type": "code",
      "source": [
        "trueNews['wordcount'].hist(bins=100)"
      ],
      "metadata": {
        "colab": {
          "base_uri": "https://localhost:8080/",
          "height": 449
        },
        "id": "tPFO49VUlWV_",
        "outputId": "0cc78a6b-1616-4b3e-e55d-0cb13c646796"
      },
      "execution_count": null,
      "outputs": [
        {
          "output_type": "execute_result",
          "data": {
            "text/plain": [
              "<Axes: >"
            ]
          },
          "metadata": {},
          "execution_count": 12
        },
        {
          "output_type": "display_data",
          "data": {
            "text/plain": [
              "<Figure size 640x480 with 1 Axes>"
            ],
            "image/png": "[encoded data removed]"
          },
          "metadata": {}
        }
      ]
    },
    {
      "cell_type": "code",
      "source": [
        "\n",
        "trueNewsVocab = dict()\n",
        "fakeNewsVocab = dict()\n",
        "\n",
        "def word_count(sentence,counts): \n",
        "    words = sentence.split()\n",
        "\n",
        "    for word in words:\n",
        "        if word in counts:\n",
        "            counts[word] += 1\n",
        "        else:\n",
        "            counts[word] = 1\n",
        "\n",
        "    return counts\n",
        "\n"
      ],
      "metadata": {
        "id": "L8DMcDuvmO3T"
      },
      "execution_count": null,
      "outputs": []
    },
    {
      "cell_type": "code",
      "source": [
        "trueNews['text'].apply(lambda x: word_count(str(x),trueNewsVocab))\n",
        "fakeNews['text'].apply(lambda x: word_count(str(x),fakeNewsVocab))"
      ],
      "metadata": {
        "id": "1p7UYaQloWeJ",
        "colab": {
          "base_uri": "https://localhost:8080/"
        },
        "outputId": "da5ab9bd-e288-4210-af89-9adb587d55c0"
      },
      "execution_count": null,
      "outputs": [
        {
          "output_type": "execute_result",
          "data": {
            "text/plain": [
              "0        {'Donald': 23678, 'Trump': 82956, 'just': 3084...\n",
              "1        {'Donald': 23678, 'Trump': 82956, 'just': 3084...\n",
              "2        {'Donald': 23678, 'Trump': 82956, 'just': 3084...\n",
              "3        {'Donald': 23678, 'Trump': 82956, 'just': 3084...\n",
              "4        {'Donald': 23678, 'Trump': 82956, 'just': 3084...\n",
              "                               ...                        \n",
              "43637    {'Donald': 23678, 'Trump': 82956, 'just': 3084...\n",
              "43638    {'Donald': 23678, 'Trump': 82956, 'just': 3084...\n",
              "43639    {'Donald': 23678, 'Trump': 82956, 'just': 3084...\n",
              "43640    {'Donald': 23678, 'Trump': 82956, 'just': 3084...\n",
              "43641    {'Donald': 23678, 'Trump': 82956, 'just': 3084...\n",
              "Name: text, Length: 43642, dtype: object"
            ]
          },
          "metadata": {},
          "execution_count": 14
        }
      ]
    },
    {
      "cell_type": "code",
      "source": [
        " sorted(trueNewsVocab.items(), key=lambda x:x[1], reverse=True)[:10]"
      ],
      "metadata": {
        "colab": {
          "base_uri": "https://localhost:8080/"
        },
        "id": "Ccv0tELvolX4",
        "outputId": "82a6ce7f-4bf5-47de-e507-abad6bc44bc5"
      },
      "execution_count": null,
      "outputs": [
        {
          "output_type": "execute_result",
          "data": {
            "text/plain": [
              "[('the', 969533),\n",
              " ('to', 522006),\n",
              " ('of', 474161),\n",
              " ('a', 438146),\n",
              " ('and', 410873),\n",
              " ('in', 364447),\n",
              " ('that', 219707),\n",
              " ('on', 190099),\n",
              " ('for', 171158),\n",
              " ('is', 142404)]"
            ]
          },
          "metadata": {},
          "execution_count": 15
        }
      ]
    },
    {
      "cell_type": "code",
      "source": [
        "sorted(fakeNewsVocab.items(), key=lambda x:x[1], reverse=True)[:10]"
      ],
      "metadata": {
        "colab": {
          "base_uri": "https://localhost:8080/"
        },
        "id": "niQ1XeZRor1V",
        "outputId": "ae248c54-150e-451a-af9a-1cde3de91195"
      },
      "execution_count": null,
      "outputs": [
        {
          "output_type": "execute_result",
          "data": {
            "text/plain": [
              "[('the', 955905),\n",
              " ('to', 528947),\n",
              " ('of', 481833),\n",
              " ('and', 428417),\n",
              " ('a', 371387),\n",
              " ('in', 304273),\n",
              " ('that', 249811),\n",
              " ('is', 214709),\n",
              " ('for', 163025),\n",
              " ('on', 137681)]"
            ]
          },
          "metadata": {},
          "execution_count": 16
        }
      ]
    },
    {
      "cell_type": "code",
      "source": [
        "def cleanText(text):\n",
        "  text = text.lower()\n",
        "  text = re.sub(r\"(@\\[A-Za-z0-9]+)|([^0-9A-Za-z \\t])|(\\w+:\\/\\/\\S+)|^rt|http.+?\", \"\", text)\n",
        "  text = \" \".join([word for word in text.split() if word not in (stop)])\n",
        "  return text"
      ],
      "metadata": {
        "id": "myHteIChpi1Q"
      },
      "execution_count": null,
      "outputs": []
    },
    {
      "cell_type": "code",
      "source": [
        "trueNews['cleantext']=trueNews['text'].apply(lambda x: cleanText(str(x)))\n",
        "fakeNews['cleantext']=fakeNews['text'].apply(lambda x: cleanText(str(x)))"
      ],
      "metadata": {
        "id": "Zav4WtYgreOy"
      },
      "execution_count": null,
      "outputs": []
    },
    {
      "cell_type": "code",
      "source": [
        "trueNews"
      ],
      "metadata": {
        "colab": {
          "base_uri": "https://localhost:8080/",
          "height": 424
        },
        "id": "6uAM443drrLZ",
        "outputId": "285d6e2b-7bbe-4d9f-e411-b81853516325"
      },
      "execution_count": null,
      "outputs": [
        {
          "output_type": "execute_result",
          "data": {
            "text/plain": [
              "       Unnamed: 0                                               text  \\\n",
              "0               0  The head of a conservative Republican faction ...   \n",
              "1               1  Transgender people will be allowed for the fir...   \n",
              "2               2  The special counsel investigation of links bet...   \n",
              "3               3  Trump campaign adviser George Papadopoulos tol...   \n",
              "4               4  President Donald Trump called on the U.S. Post...   \n",
              "...           ...                                                ...   \n",
              "34970       34970  Most conservatives who oppose marriage equalit...   \n",
              "34971       34971  The freshman senator from Georgia quoted scrip...   \n",
              "34972       34972  The State Department told the Republican Natio...   \n",
              "34973       34973  ADDIS ABABA, Ethiopia —President Obama convene...   \n",
              "34974       34974  Jeb Bush Is Suddenly Attacking Trump. Here's W...   \n",
              "\n",
              "       wordcount                                          cleantext  \n",
              "0            746  head conservative republican faction us congre...  \n",
              "1            396  transgender people allowed first time enlist u...  \n",
              "2            454  special counsel investigation links russia pre...  \n",
              "3            373  trump campaign adviser george papadopoulos tol...  \n",
              "4            849  president donald trump called us postal servic...  \n",
              "...          ...                                                ...  \n",
              "34970        288  conservatives oppose marriage equality cite bi...  \n",
              "34971        370  freshman senator georgia quoted scripture righ...  \n",
              "34972        642  state department told republican national comm...  \n",
              "34973       1120  addis ababa ethiopia president obama convened ...  \n",
              "34974        825  jeb bush suddenly attacking trump heres matter...  \n",
              "\n",
              "[34975 rows x 4 columns]"
            ],
            "text/html": [
              "\n",
              "  <div id=\"df-9a5d896b-b032-4654-8fc4-e72ef7cf5de8\">\n",
              "    <div class=\"colab-df-container\">\n",
              "      <div>\n",
              "<style scoped>\n",
              "    .dataframe tbody tr th:only-of-type {\n",
              "        vertical-align: middle;\n",
              "    }\n",
              "\n",
              "    .dataframe tbody tr th {\n",
              "        vertical-align: top;\n",
              "    }\n",
              "\n",
              "    .dataframe thead th {\n",
              "        text-align: right;\n",
              "    }\n",
              "</style>\n",
              "<table border=\"1\" class=\"dataframe\">\n",
              "  <thead>\n",
              "    <tr style=\"text-align: right;\">\n",
              "      <th></th>\n",
              "      <th>Unnamed: 0</th>\n",
              "      <th>text</th>\n",
              "      <th>wordcount</th>\n",
              "      <th>cleantext</th>\n",
              "    </tr>\n",
              "  </thead>\n",
              "  <tbody>\n",
              "    <tr>\n",
              "      <th>0</th>\n",
              "      <td>0</td>\n",
              "      <td>The head of a conservative Republican faction ...</td>\n",
              "      <td>746</td>\n",
              "      <td>head conservative republican faction us congre...</td>\n",
              "    </tr>\n",
              "    <tr>\n",
              "      <th>1</th>\n",
              "      <td>1</td>\n",
              "      <td>Transgender people will be allowed for the fir...</td>\n",
              "      <td>396</td>\n",
              "      <td>transgender people allowed first time enlist u...</td>\n",
              "    </tr>\n",
              "    <tr>\n",
              "      <th>2</th>\n",
              "      <td>2</td>\n",
              "      <td>The special counsel investigation of links bet...</td>\n",
              "      <td>454</td>\n",
              "      <td>special counsel investigation links russia pre...</td>\n",
              "    </tr>\n",
              "    <tr>\n",
              "      <th>3</th>\n",
              "      <td>3</td>\n",
              "      <td>Trump campaign adviser George Papadopoulos tol...</td>\n",
              "      <td>373</td>\n",
              "      <td>trump campaign adviser george papadopoulos tol...</td>\n",
              "    </tr>\n",
              "    <tr>\n",
              "      <th>4</th>\n",
              "      <td>4</td>\n",
              "      <td>President Donald Trump called on the U.S. Post...</td>\n",
              "      <td>849</td>\n",
              "      <td>president donald trump called us postal servic...</td>\n",
              "    </tr>\n",
              "    <tr>\n",
              "      <th>...</th>\n",
              "      <td>...</td>\n",
              "      <td>...</td>\n",
              "      <td>...</td>\n",
              "      <td>...</td>\n",
              "    </tr>\n",
              "    <tr>\n",
              "      <th>34970</th>\n",
              "      <td>34970</td>\n",
              "      <td>Most conservatives who oppose marriage equalit...</td>\n",
              "      <td>288</td>\n",
              "      <td>conservatives oppose marriage equality cite bi...</td>\n",
              "    </tr>\n",
              "    <tr>\n",
              "      <th>34971</th>\n",
              "      <td>34971</td>\n",
              "      <td>The freshman senator from Georgia quoted scrip...</td>\n",
              "      <td>370</td>\n",
              "      <td>freshman senator georgia quoted scripture righ...</td>\n",
              "    </tr>\n",
              "    <tr>\n",
              "      <th>34972</th>\n",
              "      <td>34972</td>\n",
              "      <td>The State Department told the Republican Natio...</td>\n",
              "      <td>642</td>\n",
              "      <td>state department told republican national comm...</td>\n",
              "    </tr>\n",
              "    <tr>\n",
              "      <th>34973</th>\n",
              "      <td>34973</td>\n",
              "      <td>ADDIS ABABA, Ethiopia —President Obama convene...</td>\n",
              "      <td>1120</td>\n",
              "      <td>addis ababa ethiopia president obama convened ...</td>\n",
              "    </tr>\n",
              "    <tr>\n",
              "      <th>34974</th>\n",
              "      <td>34974</td>\n",
              "      <td>Jeb Bush Is Suddenly Attacking Trump. Here's W...</td>\n",
              "      <td>825</td>\n",
              "      <td>jeb bush suddenly attacking trump heres matter...</td>\n",
              "    </tr>\n",
              "  </tbody>\n",
              "</table>\n",
              "<p>34975 rows × 4 columns</p>\n",
              "</div>\n",
              "      <button class=\"colab-df-convert\" onclick=\"convertToInteractive('df-9a5d896b-b032-4654-8fc4-e72ef7cf5de8')\"\n",
              "              title=\"Convert this dataframe to an interactive table.\"\n",
              "              style=\"display:none;\">\n",
              "        \n",
              "  <svg xmlns=\"http://www.w3.org/2000/svg\" height=\"24px\"viewBox=\"0 0 24 24\"\n",
              "       width=\"24px\">\n",
              "    <path d=\"M0 0h24v24H0V0z\" fill=\"none\"/>\n",
              "    <path d=\"M18.56 5.44l.94 2.06.94-2.06 2.06-.94-2.06-.94-.94-2.06-.94 2.06-2.06.94zm-11 1L8.5 8.5l.94-2.06 2.06-.94-2.06-.94L8.5 2.5l-.94 2.06-2.06.94zm10 10l.94 2.06.94-2.06 2.06-.94-2.06-.94-.94-2.06-.94 2.06-2.06.94z\"/><path d=\"M17.41 7.96l-1.37-1.37c-.4-.4-.92-.59-1.43-.59-.52 0-1.04.2-1.43.59L10.3 9.45l-7.72 7.72c-.78.78-.78 2.05 0 2.83L4 21.41c.39.39.9.59 1.41.59.51 0 1.02-.2 1.41-.59l7.78-7.78 2.81-2.81c.8-.78.8-2.07 0-2.86zM5.41 20L4 18.59l7.72-7.72 1.47 1.35L5.41 20z\"/>\n",
              "  </svg>\n",
              "      </button>\n",
              "      \n",
              "  <style>\n",
              "    .colab-df-container {\n",
              "      display:flex;\n",
              "      flex-wrap:wrap;\n",
              "      gap: 12px;\n",
              "    }\n",
              "\n",
              "    .colab-df-convert {\n",
              "      background-color: #E8F0FE;\n",
              "      border: none;\n",
              "      border-radius: 50%;\n",
              "      cursor: pointer;\n",
              "      display: none;\n",
              "      fill: #1967D2;\n",
              "      height: 32px;\n",
              "      padding: 0 0 0 0;\n",
              "      width: 32px;\n",
              "    }\n",
              "\n",
              "    .colab-df-convert:hover {\n",
              "      background-color: #E2EBFA;\n",
              "      box-shadow: 0px 1px 2px rgba(60, 64, 67, 0.3), 0px 1px 3px 1px rgba(60, 64, 67, 0.15);\n",
              "      fill: #174EA6;\n",
              "    }\n",
              "\n",
              "    [theme=dark] .colab-df-convert {\n",
              "      background-color: #3B4455;\n",
              "      fill: #D2E3FC;\n",
              "    }\n",
              "\n",
              "    [theme=dark] .colab-df-convert:hover {\n",
              "      background-color: #434B5C;\n",
              "      box-shadow: 0px 1px 3px 1px rgba(0, 0, 0, 0.15);\n",
              "      filter: drop-shadow(0px 1px 2px rgba(0, 0, 0, 0.3));\n",
              "      fill: #FFFFFF;\n",
              "    }\n",
              "  </style>\n",
              "\n",
              "      <script>\n",
              "        const buttonEl =\n",
              "          document.querySelector('#df-9a5d896b-b032-4654-8fc4-e72ef7cf5de8 button.colab-df-convert');\n",
              "        buttonEl.style.display =\n",
              "          google.colab.kernel.accessAllowed ? 'block' : 'none';\n",
              "\n",
              "        async function convertToInteractive(key) {\n",
              "          const element = document.querySelector('#df-9a5d896b-b032-4654-8fc4-e72ef7cf5de8');\n",
              "          const dataTable =\n",
              "            await google.colab.kernel.invokeFunction('convertToInteractive',\n",
              "                                                     [key], {});\n",
              "          if (!dataTable) return;\n",
              "\n",
              "          const docLinkHtml = 'Like what you see? Visit the ' +\n",
              "            '<a target=\"_blank\" href=https://colab.research.google.com/notebooks/data_table.ipynb>data table notebook</a>'\n",
              "            + ' to learn more about interactive tables.';\n",
              "          element.innerHTML = '';\n",
              "          dataTable['output_type'] = 'display_data';\n",
              "          await google.colab.output.renderOutput(dataTable, element);\n",
              "          const docLink = document.createElement('div');\n",
              "          docLink.innerHTML = docLinkHtml;\n",
              "          element.appendChild(docLink);\n",
              "        }\n",
              "      </script>\n",
              "    </div>\n",
              "  </div>\n",
              "  "
            ]
          },
          "metadata": {},
          "execution_count": 19
        }
      ]
    },
    {
      "cell_type": "code",
      "source": [
        "trueNews['wordcountclean']=trueNews['cleantext'].apply(lambda x: len(str(x).split()))\n",
        "fakeNews['wordcountclean']=fakeNews['cleantext'].apply(lambda x: len(str(x).split()))"
      ],
      "metadata": {
        "id": "NajARKxusHD7"
      },
      "execution_count": null,
      "outputs": []
    },
    {
      "cell_type": "code",
      "source": [
        "print(\"Average, Minimum and Maximum of lentgh in True News are {0}, {1}, {2}\".format(trueNews['wordcountclean'].mean(),trueNews['wordcountclean'].min(),trueNews['wordcountclean'].max()))\n",
        "print(\"Average, Minimum and Maximum of lentgh in Fake News are {0}, {1}, {2}\".format(fakeNews['wordcountclean'].mean(),fakeNews['wordcountclean'].min(),fakeNews['wordcountclean'].max()))"
      ],
      "metadata": {
        "colab": {
          "base_uri": "https://localhost:8080/"
        },
        "id": "tuuSSCeKtRzX",
        "outputId": "72db7145-a458-4974-c48d-2add83cabc21"
      },
      "execution_count": null,
      "outputs": [
        {
          "output_type": "stream",
          "name": "stdout",
          "text": [
            "Average, Minimum and Maximum of lentgh in True News are 307.67356683345247, 0, 7763\n",
            "Average, Minimum and Maximum of lentgh in Fake News are 243.2948535814124, 0, 12438\n"
          ]
        }
      ]
    },
    {
      "cell_type": "code",
      "source": [
        "fakeNews['wordcountclean'].hist(bins=100)"
      ],
      "metadata": {
        "colab": {
          "base_uri": "https://localhost:8080/",
          "height": 447
        },
        "id": "Efo20LkgtaaO",
        "outputId": "d11b6273-956f-42f2-c25d-6454dec50b53"
      },
      "execution_count": null,
      "outputs": [
        {
          "output_type": "execute_result",
          "data": {
            "text/plain": [
              "<Axes: >"
            ]
          },
          "metadata": {},
          "execution_count": 22
        },
        {
          "output_type": "display_data",
          "data": {
            "text/plain": [
              "<Figure size 640x480 with 1 Axes>"
            ],
            "image/png": "[encoded data removed]"
          },
          "metadata": {}
        }
      ]
    },
    {
      "cell_type": "code",
      "source": [
        "trueNews['wordcountclean'].hist(bins=100)"
      ],
      "metadata": {
        "colab": {
          "base_uri": "https://localhost:8080/",
          "height": 447
        },
        "id": "Z8ECS1t3tkyf",
        "outputId": "3f706ed2-8b7e-4916-bb09-a33b895ef607"
      },
      "execution_count": null,
      "outputs": [
        {
          "output_type": "execute_result",
          "data": {
            "text/plain": [
              "<Axes: >"
            ]
          },
          "metadata": {},
          "execution_count": 23
        },
        {
          "output_type": "display_data",
          "data": {
            "text/plain": [
              "<Figure size 640x480 with 1 Axes>"
            ],
            "image/png": "[encoded data removed]"
          },
          "metadata": {}
        }
      ]
    },
    {
      "cell_type": "code",
      "source": [
        "trueNewsVocabClean = dict()\n",
        "fakeNewsVocabClean = dict()\n",
        "trueNews['cleantext'].apply(lambda x: word_count(str(x),trueNewsVocabClean))\n",
        "fakeNews['cleantext'].apply(lambda x: word_count(str(x),fakeNewsVocabClean))\n"
      ],
      "metadata": {
        "id": "rcp7cNA3toMQ",
        "colab": {
          "base_uri": "https://localhost:8080/"
        },
        "outputId": "45a95c7f-1087-405a-c298-2b2e18af4336"
      },
      "execution_count": null,
      "outputs": [
        {
          "output_type": "execute_result",
          "data": {
            "text/plain": [
              "0        {'donald': 24043, 'trump': 95820, 'wish': 1168...\n",
              "1        {'donald': 24043, 'trump': 95820, 'wish': 1168...\n",
              "2        {'donald': 24043, 'trump': 95820, 'wish': 1168...\n",
              "3        {'donald': 24043, 'trump': 95820, 'wish': 1168...\n",
              "4        {'donald': 24043, 'trump': 95820, 'wish': 1168...\n",
              "                               ...                        \n",
              "43637    {'donald': 24043, 'trump': 95820, 'wish': 1168...\n",
              "43638    {'donald': 24043, 'trump': 95820, 'wish': 1168...\n",
              "43639    {'donald': 24043, 'trump': 95820, 'wish': 1168...\n",
              "43640    {'donald': 24043, 'trump': 95820, 'wish': 1168...\n",
              "43641    {'donald': 24043, 'trump': 95820, 'wish': 1168...\n",
              "Name: cleantext, Length: 43642, dtype: object"
            ]
          },
          "metadata": {},
          "execution_count": 24
        }
      ]
    },
    {
      "cell_type": "code",
      "source": [
        "sorted(trueNewsVocabClean.items(), key=lambda x:x[1], reverse=True)[:10]"
      ],
      "metadata": {
        "colab": {
          "base_uri": "https://localhost:8080/"
        },
        "id": "1RF8PM0ot-Gk",
        "outputId": "a91e2b2c-f32c-4a8b-8703-c8a0c04b7889"
      },
      "execution_count": null,
      "outputs": [
        {
          "output_type": "execute_result",
          "data": {
            "text/plain": [
              "[('said', 165245),\n",
              " ('trump', 74516),\n",
              " ('mr', 65729),\n",
              " ('would', 56579),\n",
              " ('us', 46558),\n",
              " ('president', 43552),\n",
              " ('new', 38671),\n",
              " ('one', 38280),\n",
              " ('people', 37552),\n",
              " ('also', 33311)]"
            ]
          },
          "metadata": {},
          "execution_count": 25
        }
      ]
    },
    {
      "cell_type": "code",
      "source": [
        "sorted(fakeNewsVocabClean.items(), key=lambda x:x[1], reverse=True)[:10]"
      ],
      "metadata": {
        "colab": {
          "base_uri": "https://localhost:8080/"
        },
        "id": "zyTE3CGNt-wU",
        "outputId": "977d0310-531a-4346-d949-7f20fc663d10"
      },
      "execution_count": null,
      "outputs": [
        {
          "output_type": "execute_result",
          "data": {
            "text/plain": [
              "[('trump', 95820),\n",
              " ('us', 50680),\n",
              " ('people', 47643),\n",
              " ('said', 46828),\n",
              " ('one', 43223),\n",
              " ('would', 43143),\n",
              " ('clinton', 39414),\n",
              " ('president', 36094),\n",
              " ('like', 31030),\n",
              " ('hillary', 28957)]"
            ]
          },
          "metadata": {},
          "execution_count": 26
        }
      ]
    },
    {
      "cell_type": "code",
      "source": [
        "\n",
        "from sklearn.feature_extraction.text import TfidfVectorizer\n",
        "\n",
        "corpus = fakeNews['cleantext']\n",
        "vectorizer = TfidfVectorizer(max_features=500)\n",
        "X = vectorizer.fit_transform(corpus)\n",
        "# vectorizer.get_feature_names_out()\n"
      ],
      "metadata": {
        "id": "GciBxtfDuGmh"
      },
      "execution_count": null,
      "outputs": []
    },
    {
      "cell_type": "code",
      "source": [
        "from sklearn.cluster import KMeans\n",
        "\n",
        "kmeans = KMeans(n_clusters=3, random_state=0, n_init=\"auto\").fit(X)\n"
      ],
      "metadata": {
        "id": "z2BIJPxQBYEX"
      },
      "execution_count": null,
      "outputs": []
    },
    {
      "cell_type": "code",
      "source": [
        "fakeNews['cleantext'][1]"
      ],
      "metadata": {
        "colab": {
          "base_uri": "https://localhost:8080/",
          "height": 122
        },
        "id": "An7fUZc3Dhgc",
        "outputId": "3a508480-c228-4157-8b59-ac435ab7ea05"
      },
      "execution_count": null,
      "outputs": [
        {
          "output_type": "execute_result",
          "data": {
            "text/plain": [
              "'house intelligence committee chairman devin nunes going bad day assumption like many us christopher steeledossier prompted russia investigation lashing department justice fbi order protect trump happens dossier started investigation according documents obtained new york timesformer trump campaign adviser george papadopoulos drunk wine bar revealed knowledge russian opposition research hillary clintonon top papadopoulos covfefe boy trump administration alleged much larger role none damning drunken fool wine bar coffee boys help arrange new york meeting trump president abdel fattah elsisi egypt two months election known former aide set meetings world leaders trump team trump ran merely coffee boyin may 2016 papadopoulos revealed australian diplomat alexander downer russian officials shopping around possible dirt thendemocratic presidential nominee hillary clinton exactly much mr papadopoulos said night kensington wine rooms australian alexander downer unclear report states two months later leaked democratic emails began appearing online australian officials passed information mr papadopoulos american counterparts according four current former american foreign officials direct knowledge australians role papadopoulos pleaded guilty lying fbi cooperating witness special counsel robert mueller teamthis presidency badly scripted reality tv showphoto win mcnameegetty images'"
            ],
            "application/vnd.google.colaboratory.intrinsic+json": {
              "type": "string"
            }
          },
          "metadata": {},
          "execution_count": 29
        }
      ]
    },
    {
      "cell_type": "code",
      "source": [
        "kmeans.predict(X[1])"
      ],
      "metadata": {
        "colab": {
          "base_uri": "https://localhost:8080/"
        },
        "id": "QFogKJIyDxpw",
        "outputId": "155e3361-b763-478e-b48b-4b5b38c2a7c2"
      },
      "execution_count": null,
      "outputs": [
        {
          "output_type": "execute_result",
          "data": {
            "text/plain": [
              "array([0], dtype=int32)"
            ]
          },
          "metadata": {},
          "execution_count": 30
        }
      ]
    },
    {
      "cell_type": "code",
      "source": [
        "kmeans.cluster_centers_"
      ],
      "metadata": {
        "colab": {
          "base_uri": "https://localhost:8080/"
        },
        "id": "Ngm8wYtZD2ZA",
        "outputId": "93df72a9-5dc3-49a9-ad33-64f7466647c7"
      },
      "execution_count": null,
      "outputs": [
        {
          "output_type": "execute_result",
          "data": {
            "text/plain": [
              "array([[0.00530379, 0.00396723, 0.00481127, ..., 0.01200616, 0.00444313,\n",
              "        0.00221813],\n",
              "       [0.00263435, 0.00128535, 0.0011574 , ..., 0.00135515, 0.00125494,\n",
              "        0.00084687],\n",
              "       [0.00683268, 0.00425531, 0.00411011, ..., 0.00763118, 0.00766888,\n",
              "        0.00337677]])"
            ]
          },
          "metadata": {},
          "execution_count": 31
        }
      ]
    },
    {
      "cell_type": "code",
      "source": [
        "fakeNews['text'][4]"
      ],
      "metadata": {
        "colab": {
          "base_uri": "https://localhost:8080/",
          "height": 122
        },
        "id": "CeQFlMkXBcJc",
        "outputId": "5bde6208-cdce-4785-a001-0415fbb1be48"
      },
      "execution_count": null,
      "outputs": [
        {
          "output_type": "execute_result",
          "data": {
            "text/plain": [
              "'Pope Francis used his annual Christmas Day message to rebuke Donald Trump without even mentioning his name. The Pope delivered his message just days after members of the United Nations condemned Trump s move to recognize Jerusalem as the capital of Israel. The Pontiff prayed on Monday for the  peaceful coexistence of two states within mutually agreed and internationally recognized borders. We see Jesus in the children of the Middle East who continue to suffer because of growing tensions between Israelis and Palestinians,  Francis said.  On this festive day, let us ask the Lord for peace for Jerusalem and for all the Holy Land. Let us pray that the will to resume dialogue may prevail between the parties and that a negotiated solution can finally be reached. The Pope went on to plead for acceptance of refugees who have been forced from their homes, and that is an issue Trump continues to fight against. Francis used Jesus for which there was  no place in the inn  as an analogy. Today, as the winds of war are blowing in our world and an outdated model of development continues to produce human, societal and environmental decline, Christmas invites us to focus on the sign of the Child and to recognize him in the faces of little children, especially those for whom, like Jesus,  there is no place in the inn,  he said. Jesus knows well the pain of not being welcomed and how hard it is not to have a place to lay one s head,  he added.  May our hearts not be closed as they were in the homes of Bethlehem. The Pope said that Mary and Joseph were immigrants who struggled to find a safe place to stay in Bethlehem. They had to leave their people, their home, and their land,  Francis said.  This was no comfortable or easy journey for a young couple about to have a child.   At heart, they were full of hope and expectation because of the child about to be born; yet their steps were weighed down by the uncertainties and dangers that attend those who have to leave their home behind. So many other footsteps are hidden in the footsteps of Joseph and Mary,  Francis said Sunday. We see the tracks of entire families forced to set out in our own day. We see the tracks of millions of persons who do not choose to go away, but driven from their land, leave behind their dear ones. Amen to that.Photo by Christopher Furlong/Getty Images.'"
            ],
            "application/vnd.google.colaboratory.intrinsic+json": {
              "type": "string"
            }
          },
          "metadata": {},
          "execution_count": 32
        }
      ]
    },
    {
      "cell_type": "code",
      "source": [
        "kmeans.predict(X[4])"
      ],
      "metadata": {
        "colab": {
          "base_uri": "https://localhost:8080/"
        },
        "id": "r532rlh2B8Mn",
        "outputId": "4d0c2e3d-6512-4081-fd48-1e219e68cea8"
      },
      "execution_count": null,
      "outputs": [
        {
          "output_type": "execute_result",
          "data": {
            "text/plain": [
              "array([2], dtype=int32)"
            ]
          },
          "metadata": {},
          "execution_count": 33
        }
      ]
    },
    {
      "cell_type": "code",
      "source": [
        "\n",
        "from sklearn.decomposition import PCA\n",
        "pca = PCA(n_components=2)\n",
        "pca_x = pca.fit_transform(X.toarray())\n"
      ],
      "metadata": {
        "id": "5jwdu9mrEJR6"
      },
      "execution_count": null,
      "outputs": []
    },
    {
      "cell_type": "code",
      "source": [
        "indices = np.random.choice(X.shape[0], 1000, replace=False)"
      ],
      "metadata": {
        "id": "iMDH-jkqGQuu"
      },
      "execution_count": null,
      "outputs": []
    },
    {
      "cell_type": "code",
      "source": [
        "labels = kmeans.predict(X[indices])"
      ],
      "metadata": {
        "id": "O9OkOJZ1MH8R"
      },
      "execution_count": null,
      "outputs": []
    },
    {
      "cell_type": "code",
      "source": [
        "labels"
      ],
      "metadata": {
        "id": "XuS2uE1GMPzF"
      },
      "execution_count": null,
      "outputs": []
    },
    {
      "cell_type": "code",
      "source": [
        "import numpy as np\n",
        "import matplotlib.pyplot as plt\n",
        "\n",
        "\n",
        "plt.scatter(pca_x[indices][:,0],pca_x[indices][:,1],c=labels )\n",
        "plt.show()\n"
      ],
      "metadata": {
        "colab": {
          "base_uri": "https://localhost:8080/",
          "height": 430
        },
        "id": "VmSbbwYPGeKn",
        "outputId": "bd9c9def-866e-4dce-a736-e836d056e3a0"
      },
      "execution_count": null,
      "outputs": [
        {
          "output_type": "display_data",
          "data": {
            "text/plain": [
              "<Figure size 640x480 with 1 Axes>"
            ],
            "image/png": "[encoded data removed]"
          },
          "metadata": {}
        }
      ]
    },
    {
      "cell_type": "code",
      "source": [
        "from sklearn.manifold import TSNE\n",
        "\n",
        "tsne_x = TSNE(n_components=2, learning_rate='auto',init='random',).fit_transform(X)"
      ],
      "metadata": {
        "id": "8E38TwbRG4AU"
      },
      "execution_count": null,
      "outputs": []
    },
    {
      "cell_type": "code",
      "source": [
        "plt.scatter(tsne_x[indices][:,0],tsne_x[indices][:,1],c=labels )\n",
        "plt.show()"
      ],
      "metadata": {
        "id": "5jE-PCEmzqVd"
      },
      "execution_count": null,
      "outputs": []
    },
    {
      "cell_type": "code",
      "source": [
        "fakeNews['text'][indices[0]]"
      ],
      "metadata": {
        "colab": {
          "base_uri": "https://localhost:8080/",
          "height": 122
        },
        "id": "MY3wKpK2KZ4b",
        "outputId": "5fc432e0-c808-482a-ea22-184693dbf9d1"
      },
      "execution_count": null,
      "outputs": [
        {
          "output_type": "execute_result",
          "data": {
            "text/plain": [
              "'Insane! This really is the definition of insanity. Letting  non-citizens  vote in our elections is something no other country would even consider ever! When you elect a socialist radical as mayor then I guess that s what you get New York City lawmakers and Mayor Bill de Blasio are reportedly discussing legislation that would give voting rights to non-citizens in local elections. The Guardian noted that under the legislation that is being discussed,  legally documented residents who have lived in New York City for at least six months will be able to vote in municipal elections.  Lawmakers are reportedly  discussing the legislation with Mayor Bill de Blasio s office  and  a bill might be introduced as soon as this spring.  Two years ago, city councilman Daniel Dromm  won the support of 35 of the city council s 51 members, forming a veto-proof majority  when he tried to advance the non-citizen voting bill,  but he faced the obstruction of then council speaker Christine Quinn and the unbreakable opposition of the Bloomberg administration.  De Blasio has said he is  willing to continue the conversation  on non-citizen voting. Non-citizens  make up as much as half the population  in areas that Dromm represents and studies have found that more than a million would be eligible to vote citywide if such de Blasio were to sign such a bill. New York recently instituted its IDNYC card, which gives illegal immigrants access to a variety of city services in addition to the municipal identification card. As the Guardian points out,  many Americans find the idea of non-citizen voting entirely unpalatable and fear that it undermines the sanctity and privilege of citizenship.  Peter Schuck, an emeritus professor of law at Yale University, told the outlet,  My guess is that it would cause many Americans to wonder what the point of citizenship is if anyone can vote without even bothering to learn or be committed enough to apply for naturalization.  Eric Ulrich, one of three Republicans on the city council, recently told Newsday,  The right to vote is a privilege and a sacred obligation that citizens have enjoyed. It should only be for United States citizens. It s also a reason for people who are on a path to citizenship to aspire to citizenship. It s something for them to look forward to.   Six Maryland jurisdictions and Chicago allow non-citizens to vote in some local elections,  and  activists in Amherst, Massachusetts, Madison, Wisconsin, and Burlington, Vermont are also clamoring to give voting rights to non-citizens.  -Breitbart NewsVia: Brietbart News'"
            ],
            "application/vnd.google.colaboratory.intrinsic+json": {
              "type": "string"
            }
          },
          "metadata": {},
          "execution_count": 40
        }
      ]
    },
    {
      "cell_type": "code",
      "source": [
        "fakeNews['text'][indices[6]]"
      ],
      "metadata": {
        "colab": {
          "base_uri": "https://localhost:8080/",
          "height": 53
        },
        "id": "HwNrUo7kK3iD",
        "outputId": "1056fd01-9bab-41e1-ba05-095455ca7637"
      },
      "execution_count": null,
      "outputs": [
        {
          "output_type": "execute_result",
          "data": {
            "text/plain": [
              "'The Chairman of the Duma Committee on financial market Anatoly Aksakov said that Russia has long been adapted to the sanctions decisions of foreign States and it\\'s not sensitive to these decisions. He emphasized that \"sanctions are stupid\" and Russia should deepen the cooperation with China, India, North and South Korea, Japan.'"
            ],
            "application/vnd.google.colaboratory.intrinsic+json": {
              "type": "string"
            }
          },
          "metadata": {},
          "execution_count": 41
        }
      ]
    },
    {
      "cell_type": "code",
      "source": [
        "fakeNews['text'][indices[1]]"
      ],
      "metadata": {
        "colab": {
          "base_uri": "https://localhost:8080/",
          "height": 122
        },
        "id": "iM-Ii5W2N5hk",
        "outputId": "41f8580f-a23e-46c9-de0f-25ac87ddf821"
      },
      "execution_count": null,
      "outputs": [
        {
          "output_type": "execute_result",
          "data": {
            "text/plain": [
              "'The presidential debate schedule is already out, and, true to form, Donald Trump is already throwing a livid fit about it. He doesn t like the fact that two of the debates are scheduled on the same nights as NFL games, which would be understandable if he wasn t busy saying Hillary Clinton is responsible for that. However, he crossed a major line in his accusations, and it has already come back to bite him hard.In an interview with ABC News, he made the following ridiculous claim: Well, I ll tell you what I don t like. It s against two NFL games. I got a letter from the NFL saying,  This is ridiculous. Why are the debates against   cause the NFL doesn t wanna go against the debates.  Cause the debates are gonna be pretty massive, from what I understand, OK? And I don t think we should be against the NFL. Now, aside from the obvious questions of why the NFL would be sending Trump a letter about this, rather than the Commission on Presidential Debates, it appears that this is one of Trump s most blatant lies yet. CNN s Brian Stetler says the NFL responded by disavowing any contact with Trump at all: While we d obviously wish the debate commission could find another night, we did not send a letter to Trump. And there it is. Most politicians who are given to lies will at least attempt to lie in such a way that it s hard to prove, even with a statement from whomever or whatever they re lying about. Not Trump! No he s so important that it doesn t matter that the debate schedule has been in place for a year already. Agencies like the NFL will communicate to him first, because he s just that crucial to the whole process.Why is this significant? Because it s not a gaffe. A gaffe is when a politician, pundit, or someone else heavily involved in politics accidentally lets loose what s really on their minds. Romney s 47 percent comment four years ago is a gaffe. Trump, however, commits gaffes and also tells outright lies. And because of that, it s virtually pointless to fact-check him, because even with a statement from whoever he s lied about, he ll double down on it.If nothing else, this lie, while seemingly stupid, provides a deep look into the psyche of the man who is Donald Trump. He ll say whatever he wants   he doesn t care. And if the NFL wants to take him down a notch or twelve by denying they even communicated with him, then he ll make sure they re sorry for making him look like the fool that he is. Or he ll ignore them altogether.His fa ade is coming down, and only the truly brainwashed voters, along with the white supremacist masses he s attracted, remain willfully blind to his lack of honesty. The NFL is a major organization. They just made Trump look very bad indeed.Featured image by Regine Mahaux/Getty Images'"
            ],
            "application/vnd.google.colaboratory.intrinsic+json": {
              "type": "string"
            }
          },
          "metadata": {},
          "execution_count": 42
        }
      ]
    },
    {
      "cell_type": "code",
      "source": [
        "fakeNews['text'][indices[2]]"
      ],
      "metadata": {
        "colab": {
          "base_uri": "https://localhost:8080/",
          "height": 122
        },
        "id": "qwxdo3exN6Y0",
        "outputId": "e8edefdb-aa7d-4a7e-c11e-84fb30f0e2de"
      },
      "execution_count": null,
      "outputs": [
        {
          "output_type": "execute_result",
          "data": {
            "text/plain": [
              "'Giddy with the news that an Egyptian commercial airplane had disappeared on route from France to Cairo, Donald Trump wasted no time in taking an undeserved victory lap for his proposal to ban Muslims from the United States. Unable to contain himself, he also went a step further and blamed Hillary Clinton for the plane s disappearance   because why not?Immediately after announcing that he was positive the plane went down due to Islamic terrorism (a conclusion he came to before even a single fact had emerged), Trump released a breathless statement to the effect that Clinton s lack of support for a Muslim ban was the root of all international terrorism. His evidence: a list of acts of terror that had occurred both before she became Secretary of State and after she left.Look at the carnage all over the world including the World Trade Center, San Bernardino, Paris, the USS Cole, Brussels and an unlimited number of other places. She and our totally ignorant President won t even use the term Radical Islamic Terrorism. And by the way, ask Hillary who blew up the plane last night   another terrible, but preventable tragedy. She has bad judgement and is unfit to serve as President at this delicate and difficult time in our country s history.If one were to take Trump s advice and ask Hillary  who blew up the plane last night?  She would probably defer to the experts, who would tell you: We don t know. So far, the investigation has turned up few clues and has only just begun.Although suspicion pointed to Islamist militants who blew up another airliner over Egypt just seven months ago, no group had claimed responsibility more than 24 hours after the disappearance of flight MS804, an Airbus A320 flying from Paris to Cairo.Three French investigators and a technical expert from Airbus arrived in Cairo early on Friday to help investigate the fate of the missing plane, airport sources said.Egyptian Prime Minister Sherif Ismail said on Thursday that it was too early to rule out any explanation for the disaster. The country s aviation minister said a terrorist attack was more likely than a technical failure.On Twitter the next day, Trump was again telling his supporters that he was the solution to terrorism.Look where the world is today, a total mess, and ISIS is still running around wild. I can fix it fast, Hillary has no chance!  Donald J. Trump (@realDonaldTrump) May 20, 2016So far his plans to  fix it fast  include bringing back torture, banning Muslims from the United States, and killing the wives and children of suspected extremists in the Middle East. Those vague policies have already made their way into terrorist propaganda videos and are being used as recruitment tools.On Fox News, which went from Trump skeptic to Trump cheerleader with breathtaking speed, the unanimous opinion seemed to be that acts of terror are great for Trump. The bodies haven t even been recovered from the Mediterranean Sea, and Fox host Stuart Varney was bragging about what this could do for Trump s poll numbers. I also think this may be good politically for Donald Trump. He s already tweeted out, saying this is probably terrorism.He s the guy who is saying, hands off, keep Muslims out temporarily whist we figure out who comes in. An incident of this type is surely a plus for Donald Trump. There is, of course, absolutely zero evidence that banning Muslims from the United States would stop terrorists from hijacking an Egyptian airplane, but why should that stop Fox from running with the narrative? If Trump tweets it, it must be true.Featured image via Chip Somodevilla/Getty Images'"
            ],
            "application/vnd.google.colaboratory.intrinsic+json": {
              "type": "string"
            }
          },
          "metadata": {},
          "execution_count": 43
        }
      ]
    },
    {
      "cell_type": "code",
      "source": [
        "trueNews = pd.read_csv('/content/gdrive/MyDrive/Canis/DataSet_Misinfo_TRUE.csv')\n",
        "fakeNews = pd.read_csv('/content/gdrive/MyDrive/Canis/DataSet_Misinfo_FAKE.csv')\n",
        "russianNews =  pd.read_csv('/content/gdrive/MyDrive/Canis/EXTRA_RussianPropagandaSubset.csv')"
      ],
      "metadata": {
        "id": "3pwHLvLAN9lP"
      },
      "execution_count": null,
      "outputs": []
    },
    {
      "cell_type": "code",
      "source": [
        "def cleanText(text):\n",
        "  text = \" \".join([word for word in text.split() if word not in (stop)])\n",
        "  return text\n",
        "\n",
        "trueNews['cleantext']=trueNews['text'].apply(lambda x: cleanText(str(x)))\n",
        "fakeNews['cleantext']=fakeNews['text'].apply(lambda x: cleanText(str(x)))"
      ],
      "metadata": {
        "id": "JqRDKYDYdmrT"
      },
      "execution_count": null,
      "outputs": []
    },
    {
      "cell_type": "code",
      "source": [
        "corpus = fakeNews['cleantext']"
      ],
      "metadata": {
        "id": "9yO2KqDgdsFn"
      },
      "execution_count": null,
      "outputs": []
    },
    {
      "cell_type": "code",
      "source": [
        "import gensim.downloader\n",
        "# Show all available models in gensim-data\n",
        "print(list(gensim.downloader.info()['models'].keys()))\n",
        "['fasttext-wiki-news-subwords-300',\n",
        " 'conceptnet-numberbatch-17-06-300',\n",
        " 'word2vec-ruscorpora-300',\n",
        " 'word2vec-google-news-300',\n",
        " 'glove-wiki-gigaword-50',\n",
        " 'glove-wiki-gigaword-100',\n",
        " 'glove-wiki-gigaword-200',\n",
        " 'glove-wiki-gigaword-300',\n",
        " 'glove-twitter-25',\n",
        " 'glove-twitter-50',\n",
        " 'glove-twitter-100',\n",
        " 'glove-twitter-200',\n",
        " '__testing_word2vec-matrix-synopsis']\n",
        "# Download the \"glove-twitter-25\" embeddings\n",
        "glove_vectors = gensim.downloader.load('glove-twitter-25')"
      ],
      "metadata": {
        "id": "02jLNz_MeuNv"
      },
      "execution_count": null,
      "outputs": []
    },
    {
      "cell_type": "code",
      "source": [
        "from nltk.tokenize import sent_tokenize, word_tokenize\n",
        "import warnings\n",
        "import gensim\n",
        "from gensim.models import Word2Vec\n",
        "\n",
        "import nltk\n",
        "nltk.download('punkt')\n",
        " \n",
        "\n",
        "data = []\n",
        "\n",
        "for i in (corpus):\n",
        "    # tokenize the sentence into words\n",
        "    data.append(i.split())\n",
        " \n",
        "\n",
        " \n"
      ],
      "metadata": {
        "colab": {
          "base_uri": "https://localhost:8080/"
        },
        "id": "xWBZUFr1ltTX",
        "outputId": "651e612b-df4a-4c9c-917a-57aaab9c532e"
      },
      "execution_count": null,
      "outputs": [
        {
          "output_type": "stream",
          "name": "stderr",
          "text": [
            "[nltk_data] Downloading package punkt to /root/nltk_data...\n",
            "[nltk_data]   Package punkt is already up-to-date!\n"
          ]
        }
      ]
    },
    {
      "cell_type": "code",
      "source": [
        "data[0]"
      ],
      "metadata": {
        "id": "DXW_Rd6NnO9z"
      },
      "execution_count": null,
      "outputs": []
    },
    {
      "cell_type": "code",
      "source": [
        "# Create CBOW model\n",
        "model1 = gensim.models.Word2Vec(data, min_count = 1,vector_size = 200, window = 5,workers=-1)\n",
        " \n",
        "# Create Skip Gram model\n",
        "#model2 = gensim.models.Word2Vec(data, min_count = 1, vector_size = 200,window = 5, sg = 1)"
      ],
      "metadata": {
        "id": "kSjgnm9CmVrh"
      },
      "execution_count": null,
      "outputs": []
    },
    {
      "cell_type": "code",
      "source": [],
      "metadata": {
        "id": "8CWNouVBmEoZ"
      },
      "execution_count": null,
      "outputs": []
    },
    {
      "cell_type": "code",
      "source": [
        "model1.wv.most_similar('russia')"
      ],
      "metadata": {
        "colab": {
          "base_uri": "https://localhost:8080/"
        },
        "id": "0s71YYj0pGtp",
        "outputId": "e70fa625-7df0-4278-bbfb-3ea193b7a9ee"
      },
      "execution_count": null,
      "outputs": [
        {
          "output_type": "execute_result",
          "data": {
            "text/plain": [
              "[('russians', 0.7159169912338257),\n",
              " ('russian', 0.6974749565124512),\n",
              " ('moscow', 0.675204873085022),\n",
              " ('kremlin', 0.6641848087310791),\n",
              " ('russias', 0.6555510759353638),\n",
              " ('putin', 0.6224039793014526),\n",
              " ('ukraine', 0.5752823948860168),\n",
              " ('nato', 0.5641341805458069),\n",
              " ('china', 0.5348485708236694),\n",
              " ('rootcause', 0.520883321762085)]"
            ]
          },
          "metadata": {},
          "execution_count": 33
        }
      ]
    },
    {
      "cell_type": "code",
      "source": [
        "from gensim.models.doc2vec import Doc2Vec, TaggedDocument\n",
        "\n",
        "documents = [TaggedDocument(doc, [i]) for i, doc in enumerate(corpus)]\n",
        "model = Doc2Vec(documents, vector_size=500, window=10, min_count=1, workers=-1)"
      ],
      "metadata": {
        "id": "SxFgwECMpgpm"
      },
      "execution_count": null,
      "outputs": []
    },
    {
      "cell_type": "code",
      "source": [
        "X=model.dv.vectors"
      ],
      "metadata": {
        "id": "xFho6F2Jqw1-"
      },
      "execution_count": null,
      "outputs": []
    },
    {
      "cell_type": "code",
      "source": [],
      "metadata": {
        "id": "2x0IqugDs6wj"
      },
      "execution_count": null,
      "outputs": []
    },
    {
      "cell_type": "code",
      "source": [
        "from sklearn.cluster import KMeans\n",
        "from sklearn.decomposition import PCA\n",
        "import matplotlib.pyplot as plt\n",
        "\n",
        "\n",
        "\n",
        "kmeans = KMeans(n_clusters=3, random_state=0, n_init=\"auto\").fit(X)\n",
        "pca = PCA(n_components=2)\n",
        "pca_x = pca.fit_transform(X)\n",
        "indices = np.random.choice(X.shape[0], 250, replace=False)\n",
        "labels = kmeans.predict(X[indices])\n",
        "\n",
        "\n",
        "plt.scatter(pca_x[indices][:,0],pca_x[indices][:,1],c=labels )\n",
        "plt.show()"
      ],
      "metadata": {
        "colab": {
          "base_uri": "https://localhost:8080/",
          "height": 430
        },
        "id": "uuk2KgyXq48e",
        "outputId": "5e89b7a9-d3f5-4ebd-ce82-2c92e6a3327c"
      },
      "execution_count": null,
      "outputs": [
        {
          "output_type": "display_data",
          "data": {
            "text/plain": [
              "<Figure size 640x480 with 1 Axes>"
            ],
            "image/png": "[encoded data removed]"
          },
          "metadata": {}
        }
      ]
    },
    {
      "cell_type": "code",
      "source": [],
      "metadata": {
        "id": "CK7qgQPJshEu"
      },
      "execution_count": null,
      "outputs": []
    },
    {
      "cell_type": "code",
      "source": [
        "indicesTrue = np.random.choice(trueNews['cleantext'].values.shape[0], 5000, replace=False)\n",
        "indicesFake = np.random.choice(fakeNews['cleantext'].values.shape[0], 5000, replace=False)\n",
        "sampleTrueNews = trueNews['cleantext'].values[indicesTrue]\n",
        "sampleFakeNews = fakeNews['cleantext'].values[indicesFake]\n",
        "\n"
      ],
      "metadata": {
        "id": "OuHueneeRv3Y"
      },
      "execution_count": null,
      "outputs": []
    },
    {
      "cell_type": "code",
      "source": [],
      "metadata": {
        "colab": {
          "base_uri": "https://localhost:8080/"
        },
        "id": "9uHJq5MRSsuS",
        "outputId": "a999d033-b1ff-4dda-af9f-95c4a62edfac"
      },
      "execution_count": null,
      "outputs": [
        {
          "output_type": "execute_result",
          "data": {
            "text/plain": [
              "(10,)"
            ]
          },
          "metadata": {},
          "execution_count": 24
        }
      ]
    },
    {
      "cell_type": "code",
      "source": [
        "sampleDf = pd.DataFrame()\n",
        "sampleDf['news'] = np.concatenate((sampleTrueNews, sampleFakeNews), axis=0)\n",
        "sampleDf['label'] = np.concatenate((np.ones(5000), np.zeros(5000)), axis=0)"
      ],
      "metadata": {
        "id": "jF9SsVoyR2Zz"
      },
      "execution_count": null,
      "outputs": []
    },
    {
      "cell_type": "code",
      "source": [
        "sampleDf.head()"
      ],
      "metadata": {
        "colab": {
          "base_uri": "https://localhost:8080/",
          "height": 206
        },
        "id": "vUzmcR1pTFiH",
        "outputId": "62b3922d-ad37-4188-d114-7769b7927c84"
      },
      "execution_count": null,
      "outputs": [
        {
          "output_type": "execute_result",
          "data": {
            "text/plain": [
              "                                                news  label\n",
              "0  cnn anchor jake tapper reacted chief strategis...    1.0\n",
              "1  chairman senate intelligence committee thursda...    1.0\n",
              "2  russian foreign minister sergei lavrov visit w...    1.0\n",
              "3  hong kong president obama friday moved block c...    1.0\n",
              "4  queen elizabeth invite us presidentelect donal...    1.0"
            ],
            "text/html": [
              "\n",
              "  <div id=\"df-b8e03707-0ae6-4a89-9fa6-a7488f535f90\">\n",
              "    <div class=\"colab-df-container\">\n",
              "      <div>\n",
              "<style scoped>\n",
              "    .dataframe tbody tr th:only-of-type {\n",
              "        vertical-align: middle;\n",
              "    }\n",
              "\n",
              "    .dataframe tbody tr th {\n",
              "        vertical-align: top;\n",
              "    }\n",
              "\n",
              "    .dataframe thead th {\n",
              "        text-align: right;\n",
              "    }\n",
              "</style>\n",
              "<table border=\"1\" class=\"dataframe\">\n",
              "  <thead>\n",
              "    <tr style=\"text-align: right;\">\n",
              "      <th></th>\n",
              "      <th>news</th>\n",
              "      <th>label</th>\n",
              "    </tr>\n",
              "  </thead>\n",
              "  <tbody>\n",
              "    <tr>\n",
              "      <th>0</th>\n",
              "      <td>cnn anchor jake tapper reacted chief strategis...</td>\n",
              "      <td>1.0</td>\n",
              "    </tr>\n",
              "    <tr>\n",
              "      <th>1</th>\n",
              "      <td>chairman senate intelligence committee thursda...</td>\n",
              "      <td>1.0</td>\n",
              "    </tr>\n",
              "    <tr>\n",
              "      <th>2</th>\n",
              "      <td>russian foreign minister sergei lavrov visit w...</td>\n",
              "      <td>1.0</td>\n",
              "    </tr>\n",
              "    <tr>\n",
              "      <th>3</th>\n",
              "      <td>hong kong president obama friday moved block c...</td>\n",
              "      <td>1.0</td>\n",
              "    </tr>\n",
              "    <tr>\n",
              "      <th>4</th>\n",
              "      <td>queen elizabeth invite us presidentelect donal...</td>\n",
              "      <td>1.0</td>\n",
              "    </tr>\n",
              "  </tbody>\n",
              "</table>\n",
              "</div>\n",
              "      <button class=\"colab-df-convert\" onclick=\"convertToInteractive('df-b8e03707-0ae6-4a89-9fa6-a7488f535f90')\"\n",
              "              title=\"Convert this dataframe to an interactive table.\"\n",
              "              style=\"display:none;\">\n",
              "        \n",
              "  <svg xmlns=\"http://www.w3.org/2000/svg\" height=\"24px\"viewBox=\"0 0 24 24\"\n",
              "       width=\"24px\">\n",
              "    <path d=\"M0 0h24v24H0V0z\" fill=\"none\"/>\n",
              "    <path d=\"M18.56 5.44l.94 2.06.94-2.06 2.06-.94-2.06-.94-.94-2.06-.94 2.06-2.06.94zm-11 1L8.5 8.5l.94-2.06 2.06-.94-2.06-.94L8.5 2.5l-.94 2.06-2.06.94zm10 10l.94 2.06.94-2.06 2.06-.94-2.06-.94-.94-2.06-.94 2.06-2.06.94z\"/><path d=\"M17.41 7.96l-1.37-1.37c-.4-.4-.92-.59-1.43-.59-.52 0-1.04.2-1.43.59L10.3 9.45l-7.72 7.72c-.78.78-.78 2.05 0 2.83L4 21.41c.39.39.9.59 1.41.59.51 0 1.02-.2 1.41-.59l7.78-7.78 2.81-2.81c.8-.78.8-2.07 0-2.86zM5.41 20L4 18.59l7.72-7.72 1.47 1.35L5.41 20z\"/>\n",
              "  </svg>\n",
              "      </button>\n",
              "      \n",
              "  <style>\n",
              "    .colab-df-container {\n",
              "      display:flex;\n",
              "      flex-wrap:wrap;\n",
              "      gap: 12px;\n",
              "    }\n",
              "\n",
              "    .colab-df-convert {\n",
              "      background-color: #E8F0FE;\n",
              "      border: none;\n",
              "      border-radius: 50%;\n",
              "      cursor: pointer;\n",
              "      display: none;\n",
              "      fill: #1967D2;\n",
              "      height: 32px;\n",
              "      padding: 0 0 0 0;\n",
              "      width: 32px;\n",
              "    }\n",
              "\n",
              "    .colab-df-convert:hover {\n",
              "      background-color: #E2EBFA;\n",
              "      box-shadow: 0px 1px 2px rgba(60, 64, 67, 0.3), 0px 1px 3px 1px rgba(60, 64, 67, 0.15);\n",
              "      fill: #174EA6;\n",
              "    }\n",
              "\n",
              "    [theme=dark] .colab-df-convert {\n",
              "      background-color: #3B4455;\n",
              "      fill: #D2E3FC;\n",
              "    }\n",
              "\n",
              "    [theme=dark] .colab-df-convert:hover {\n",
              "      background-color: #434B5C;\n",
              "      box-shadow: 0px 1px 3px 1px rgba(0, 0, 0, 0.15);\n",
              "      filter: drop-shadow(0px 1px 2px rgba(0, 0, 0, 0.3));\n",
              "      fill: #FFFFFF;\n",
              "    }\n",
              "  </style>\n",
              "\n",
              "      <script>\n",
              "        const buttonEl =\n",
              "          document.querySelector('#df-b8e03707-0ae6-4a89-9fa6-a7488f535f90 button.colab-df-convert');\n",
              "        buttonEl.style.display =\n",
              "          google.colab.kernel.accessAllowed ? 'block' : 'none';\n",
              "\n",
              "        async function convertToInteractive(key) {\n",
              "          const element = document.querySelector('#df-b8e03707-0ae6-4a89-9fa6-a7488f535f90');\n",
              "          const dataTable =\n",
              "            await google.colab.kernel.invokeFunction('convertToInteractive',\n",
              "                                                     [key], {});\n",
              "          if (!dataTable) return;\n",
              "\n",
              "          const docLinkHtml = 'Like what you see? Visit the ' +\n",
              "            '<a target=\"_blank\" href=https://colab.research.google.com/notebooks/data_table.ipynb>data table notebook</a>'\n",
              "            + ' to learn more about interactive tables.';\n",
              "          element.innerHTML = '';\n",
              "          dataTable['output_type'] = 'display_data';\n",
              "          await google.colab.output.renderOutput(dataTable, element);\n",
              "          const docLink = document.createElement('div');\n",
              "          docLink.innerHTML = docLinkHtml;\n",
              "          element.appendChild(docLink);\n",
              "        }\n",
              "      </script>\n",
              "    </div>\n",
              "  </div>\n",
              "  "
            ]
          },
          "metadata": {},
          "execution_count": 18
        }
      ]
    },
    {
      "cell_type": "code",
      "source": [
        "\n",
        "from sklearn.feature_extraction.text import CountVectorizer\n",
        "from sklearn.ensemble import RandomForestClassifier\n"
      ],
      "metadata": {
        "id": "7fR5FsVqTG-D"
      },
      "execution_count": null,
      "outputs": []
    },
    {
      "cell_type": "code",
      "source": [
        "vectorizer = CountVectorizer(max_features=100)\n",
        "X = vectorizer.fit_transform(sampleDf['news'],).toarray()"
      ],
      "metadata": {
        "id": "t9X_HaKdTTnZ"
      },
      "execution_count": null,
      "outputs": []
    },
    {
      "cell_type": "code",
      "source": [],
      "metadata": {
        "id": "Qvz-Hr-vTaxL"
      },
      "execution_count": null,
      "outputs": []
    },
    {
      "cell_type": "code",
      "source": [
        "sampleDf['news'][0]"
      ],
      "metadata": {
        "colab": {
          "base_uri": "https://localhost:8080/",
          "height": 53
        },
        "id": "IadmX0BxTXsi",
        "outputId": "91abf421-5521-48d3-e637-c5f9cd85d107"
      },
      "execution_count": null,
      "outputs": [
        {
          "output_type": "execute_result",
          "data": {
            "text/plain": [
              "'cnn anchor jake tapper reacted chief strategist senior counselor steve bannons statement media embarrassed humiliated keep mouth shut listen awhile ha tapper reminder presidents top aide told new york times press keep mouth shut ha mediaite follow breitbart tv twitter breitbartvideo'"
            ],
            "application/vnd.google.colaboratory.intrinsic+json": {
              "type": "string"
            }
          },
          "metadata": {},
          "execution_count": 28
        }
      ]
    },
    {
      "cell_type": "code",
      "source": [
        "vectorizer.transform([sampleDf['news'].values[0]]).toarray().shape"
      ],
      "metadata": {
        "colab": {
          "base_uri": "https://localhost:8080/"
        },
        "id": "wh4FiILuTvOP",
        "outputId": "57bf7fe9-2eb1-488b-e297-cdccfa523701"
      },
      "execution_count": null,
      "outputs": [
        {
          "output_type": "execute_result",
          "data": {
            "text/plain": [
              "(1, 100)"
            ]
          },
          "metadata": {},
          "execution_count": 29
        }
      ]
    },
    {
      "cell_type": "code",
      "source": [],
      "metadata": {
        "id": "bOWPGR4rT3Zb"
      },
      "execution_count": null,
      "outputs": []
    },
    {
      "cell_type": "code",
      "source": [
        "rForest = RandomForestClassifier()\n",
        "rForest.fit(X, sampleDf['label'])"
      ],
      "metadata": {
        "colab": {
          "base_uri": "https://localhost:8080/",
          "height": 75
        },
        "id": "wVTqX-s3UVM7",
        "outputId": "f2faf0a0-0033-4088-f4d8-abb071223198"
      },
      "execution_count": null,
      "outputs": [
        {
          "output_type": "execute_result",
          "data": {
            "text/plain": [
              "RandomForestClassifier()"
            ],
            "text/html": [
              "<style>#sk-container-id-2 {color: black;background-color: white;}#sk-container-id-2 pre{padding: 0;}#sk-container-id-2 div.sk-toggleable {background-color: white;}#sk-container-id-2 label.sk-toggleable__label {cursor: pointer;display: block;width: 100%;margin-bottom: 0;padding: 0.3em;box-sizing: border-box;text-align: center;}#sk-container-id-2 label.sk-toggleable__label-arrow:before {content: \"▸\";float: left;margin-right: 0.25em;color: #696969;}#sk-container-id-2 label.sk-toggleable__label-arrow:hover:before {color: black;}#sk-container-id-2 div.sk-estimator:hover label.sk-toggleable__label-arrow:before {color: black;}#sk-container-id-2 div.sk-toggleable__content {max-height: 0;max-width: 0;overflow: hidden;text-align: left;background-color: #f0f8ff;}#sk-container-id-2 div.sk-toggleable__content pre {margin: 0.2em;color: black;border-radius: 0.25em;background-color: #f0f8ff;}#sk-container-id-2 input.sk-toggleable__control:checked~div.sk-toggleable__content {max-height: 200px;max-width: 100%;overflow: auto;}#sk-container-id-2 input.sk-toggleable__control:checked~label.sk-toggleable__label-arrow:before {content: \"▾\";}#sk-container-id-2 div.sk-estimator input.sk-toggleable__control:checked~label.sk-toggleable__label {background-color: #d4ebff;}#sk-container-id-2 div.sk-label input.sk-toggleable__control:checked~label.sk-toggleable__label {background-color: #d4ebff;}#sk-container-id-2 input.sk-hidden--visually {border: 0;clip: rect(1px 1px 1px 1px);clip: rect(1px, 1px, 1px, 1px);height: 1px;margin: -1px;overflow: hidden;padding: 0;position: absolute;width: 1px;}#sk-container-id-2 div.sk-estimator {font-family: monospace;background-color: #f0f8ff;border: 1px dotted black;border-radius: 0.25em;box-sizing: border-box;margin-bottom: 0.5em;}#sk-container-id-2 div.sk-estimator:hover {background-color: #d4ebff;}#sk-container-id-2 div.sk-parallel-item::after {content: \"\";width: 100%;border-bottom: 1px solid gray;flex-grow: 1;}#sk-container-id-2 div.sk-label:hover label.sk-toggleable__label {background-color: #d4ebff;}#sk-container-id-2 div.sk-serial::before {content: \"\";position: absolute;border-left: 1px solid gray;box-sizing: border-box;top: 0;bottom: 0;left: 50%;z-index: 0;}#sk-container-id-2 div.sk-serial {display: flex;flex-direction: column;align-items: center;background-color: white;padding-right: 0.2em;padding-left: 0.2em;position: relative;}#sk-container-id-2 div.sk-item {position: relative;z-index: 1;}#sk-container-id-2 div.sk-parallel {display: flex;align-items: stretch;justify-content: center;background-color: white;position: relative;}#sk-container-id-2 div.sk-item::before, #sk-container-id-2 div.sk-parallel-item::before {content: \"\";position: absolute;border-left: 1px solid gray;box-sizing: border-box;top: 0;bottom: 0;left: 50%;z-index: -1;}#sk-container-id-2 div.sk-parallel-item {display: flex;flex-direction: column;z-index: 1;position: relative;background-color: white;}#sk-container-id-2 div.sk-parallel-item:first-child::after {align-self: flex-end;width: 50%;}#sk-container-id-2 div.sk-parallel-item:last-child::after {align-self: flex-start;width: 50%;}#sk-container-id-2 div.sk-parallel-item:only-child::after {width: 0;}#sk-container-id-2 div.sk-dashed-wrapped {border: 1px dashed gray;margin: 0 0.4em 0.5em 0.4em;box-sizing: border-box;padding-bottom: 0.4em;background-color: white;}#sk-container-id-2 div.sk-label label {font-family: monospace;font-weight: bold;display: inline-block;line-height: 1.2em;}#sk-container-id-2 div.sk-label-container {text-align: center;}#sk-container-id-2 div.sk-container {/* jupyter's `normalize.less` sets `[hidden] { display: none; }` but bootstrap.min.css set `[hidden] { display: none !important; }` so we also need the `!important` here to be able to override the default hidden behavior on the sphinx rendered scikit-learn.org. See: https://github.com/scikit-learn/scikit-learn/issues/21755 */display: inline-block !important;position: relative;}#sk-container-id-2 div.sk-text-repr-fallback {display: none;}</style><div id=\"sk-container-id-2\" class=\"sk-top-container\"><div class=\"sk-text-repr-fallback\"><pre>RandomForestClassifier()</pre><b>In a Jupyter environment, please rerun this cell to show the HTML representation or trust the notebook. <br />On GitHub, the HTML representation is unable to render, please try loading this page with nbviewer.org.</b></div><div class=\"sk-container\" hidden><div class=\"sk-item\"><div class=\"sk-estimator sk-toggleable\"><input class=\"sk-toggleable__control sk-hidden--visually\" id=\"sk-estimator-id-2\" type=\"checkbox\" checked><label for=\"sk-estimator-id-2\" class=\"sk-toggleable__label sk-toggleable__label-arrow\">RandomForestClassifier</label><div class=\"sk-toggleable__content\"><pre>RandomForestClassifier()</pre></div></div></div></div></div>"
            ]
          },
          "metadata": {},
          "execution_count": 30
        }
      ]
    },
    {
      "cell_type": "code",
      "source": [
        "\n",
        "feature_names = [featureName for featureName in vectorizer.get_feature_names_out()]\n",
        "\n",
        "importances = rForest.feature_importances_\n",
        "std = np.std([tree.feature_importances_ for tree in rForest.estimators_], axis=0)\n",
        "\n",
        "forest_importances = pd.Series(importances, index=feature_names)\n",
        "fig, ax = plt.subplots(figsize=(20, 5))\n",
        "forest_importances.plot.bar(yerr=std, ax=ax)\n",
        "ax.set_title(\"Feature importances\")\n",
        "ax.set_ylabel(\"Mean decrease in impurity\")\n",
        "fig.tight_layout()\n",
        "\n"
      ],
      "metadata": {
        "colab": {
          "base_uri": "https://localhost:8080/",
          "height": 386
        },
        "id": "6_njPWtAUqhK",
        "outputId": "de3027f8-599a-470f-ab18-7e60500f2b9d"
      },
      "execution_count": null,
      "outputs": [
        {
          "output_type": "display_data",
          "data": {
            "text/plain": [
              "<Figure size 2000x500 with 1 Axes>"
            ],
            "image/png": "[encoded data removed]"
          },
          "metadata": {}
        }
      ]
    },
    {
      "cell_type": "code",
      "source": [
        "forest_importances.sort_values(ascending=False)[:10]"
      ],
      "metadata": {
        "colab": {
          "base_uri": "https://localhost:8080/"
        },
        "id": "lcqq4yUjUu4y",
        "outputId": "a663af96-ddc1-4be6-cf84-fa079f2967f2"
      },
      "execution_count": null,
      "outputs": [
        {
          "output_type": "execute_result",
          "data": {
            "text/plain": [
              "trumps       0.037109\n",
              "president    0.033259\n",
              "trump        0.027119\n",
              "hillary      0.024031\n",
              "told         0.023870\n",
              "donald       0.022681\n",
              "us           0.022352\n",
              "last         0.020759\n",
              "like         0.018954\n",
              "america      0.017622\n",
              "dtype: float64"
            ]
          },
          "metadata": {},
          "execution_count": 34
        }
      ]
    },
    {
      "cell_type": "code",
      "source": [],
      "metadata": {
        "id": "zWx2mixGWke0"
      },
      "execution_count": null,
      "outputs": []
    }
  ]
}